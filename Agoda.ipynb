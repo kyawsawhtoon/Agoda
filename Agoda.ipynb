{
  "nbformat": 4,
  "nbformat_minor": 0,
  "metadata": {
    "colab": {
      "name": "Agoda.ipynb",
      "provenance": []
    },
    "kernelspec": {
      "name": "python3",
      "display_name": "Python 3"
    }
  },
  "cells": [
    {
      "cell_type": "code",
      "metadata": {
        "colab": {
          "base_uri": "https://localhost:8080/"
        },
        "id": "JVZpn8mp9HuM",
        "outputId": "de673bfc-3d7d-480f-8c60-83c1f2317570"
      },
      "source": [
        "# Importing packages\n",
        "\n",
        "import pandas as pd\n",
        "import numpy as np\n",
        "from scipy import stats\n",
        "import scipy.stats as st\n",
        "from statsmodels.stats.multicomp import pairwise_tukeyhsd"
      ],
      "execution_count": null,
      "outputs": [
        {
          "output_type": "stream",
          "text": [
            "/usr/local/lib/python3.6/dist-packages/statsmodels/tools/_testing.py:19: FutureWarning: pandas.util.testing is deprecated. Use the functions in the public API at pandas.testing instead.\n",
            "  import pandas.util.testing as tm\n"
          ],
          "name": "stderr"
        }
      ]
    },
    {
      "cell_type": "code",
      "metadata": {
        "id": "B32iNw-o-U92"
      },
      "source": [
        "# Combining all worksheets into a dataframe\n",
        "\n",
        "df = pd.concat(pd.read_excel('/content/drive/MyDrive/Data Science/Agoda/Case_Study_Urgency_Message_Data.xlsx', sheet_name=None), ignore_index=True)"
      ],
      "execution_count": null,
      "outputs": []
    },
    {
      "cell_type": "code",
      "metadata": {
        "id": "ajBgOAk0FaDF"
      },
      "source": [
        "# Calculating number of days stay\n",
        "\n",
        "df['days_stay'] = (df['checkout_date'] - df['checkin_date']) / np.timedelta64(1, 'D')"
      ],
      "execution_count": null,
      "outputs": []
    },
    {
      "cell_type": "code",
      "metadata": {
        "id": "DTdrjqYgNzER"
      },
      "source": [
        "# Calculating number of days between booking and checking in\n",
        "\n",
        "df['days_between_booking_checking'] = (df['checkin_date'] - df['booking_date'])/ np.timedelta64(1, 'D')\n",
        "df['Days_Booked_Early'] = pd.cut(df['days_between_booking_checking'], 5)"
      ],
      "execution_count": null,
      "outputs": []
    },
    {
      "cell_type": "code",
      "metadata": {
        "id": "ZXCAA6iAs4Dg"
      },
      "source": [
        "# Calculating price tiers\n",
        "\n",
        "df['Price_Tier'] = pd.cut(df['ADR_USD'], 5, labels=[\"budget\", \"low\", \"medium\", \"high\", \"luxury\"])"
      ],
      "execution_count": null,
      "outputs": []
    },
    {
      "cell_type": "code",
      "metadata": {
        "colab": {
          "base_uri": "https://localhost:8080/",
          "height": 204
        },
        "id": "D1W_hr-G-Z0M",
        "outputId": "6e9d917d-401b-4e30-99a6-e883d97328d1"
      },
      "source": [
        "df.head()"
      ],
      "execution_count": null,
      "outputs": [
        {
          "output_type": "execute_result",
          "data": {
            "text/html": [
              "<div>\n",
              "<style scoped>\n",
              "    .dataframe tbody tr th:only-of-type {\n",
              "        vertical-align: middle;\n",
              "    }\n",
              "\n",
              "    .dataframe tbody tr th {\n",
              "        vertical-align: top;\n",
              "    }\n",
              "\n",
              "    .dataframe thead th {\n",
              "        text-align: right;\n",
              "    }\n",
              "</style>\n",
              "<table border=\"1\" class=\"dataframe\">\n",
              "  <thead>\n",
              "    <tr style=\"text-align: right;\">\n",
              "      <th></th>\n",
              "      <th>#</th>\n",
              "      <th>ADR_USD</th>\n",
              "      <th>hotel_id</th>\n",
              "      <th>city_id</th>\n",
              "      <th>star_rating</th>\n",
              "      <th>accommodation_type_name</th>\n",
              "      <th>chain_hotel</th>\n",
              "      <th>booking_date</th>\n",
              "      <th>checkin_date</th>\n",
              "      <th>checkout_date</th>\n",
              "      <th>days_stay</th>\n",
              "      <th>days_between_booking_checking</th>\n",
              "      <th>Days_Booked_Early</th>\n",
              "      <th>Price_Tier</th>\n",
              "    </tr>\n",
              "  </thead>\n",
              "  <tbody>\n",
              "    <tr>\n",
              "      <th>0</th>\n",
              "      <td>1</td>\n",
              "      <td>71.06</td>\n",
              "      <td>297388</td>\n",
              "      <td>9395</td>\n",
              "      <td>2.5</td>\n",
              "      <td>Hotel</td>\n",
              "      <td>non-chain</td>\n",
              "      <td>2016-08-02</td>\n",
              "      <td>2016-10-01</td>\n",
              "      <td>2016-10-02</td>\n",
              "      <td>1.0</td>\n",
              "      <td>60.0</td>\n",
              "      <td>(47.8, 60.0]</td>\n",
              "      <td>budget</td>\n",
              "    </tr>\n",
              "    <tr>\n",
              "      <th>1</th>\n",
              "      <td>2</td>\n",
              "      <td>76.56</td>\n",
              "      <td>298322</td>\n",
              "      <td>9395</td>\n",
              "      <td>3.0</td>\n",
              "      <td>Hotel</td>\n",
              "      <td>non-chain</td>\n",
              "      <td>2016-08-02</td>\n",
              "      <td>2016-10-01</td>\n",
              "      <td>2016-10-02</td>\n",
              "      <td>1.0</td>\n",
              "      <td>60.0</td>\n",
              "      <td>(47.8, 60.0]</td>\n",
              "      <td>budget</td>\n",
              "    </tr>\n",
              "    <tr>\n",
              "      <th>2</th>\n",
              "      <td>3</td>\n",
              "      <td>153.88</td>\n",
              "      <td>2313076</td>\n",
              "      <td>9395</td>\n",
              "      <td>5.0</td>\n",
              "      <td>Hotel</td>\n",
              "      <td>chain</td>\n",
              "      <td>2016-08-02</td>\n",
              "      <td>2016-10-01</td>\n",
              "      <td>2016-10-02</td>\n",
              "      <td>1.0</td>\n",
              "      <td>60.0</td>\n",
              "      <td>(47.8, 60.0]</td>\n",
              "      <td>budget</td>\n",
              "    </tr>\n",
              "    <tr>\n",
              "      <th>3</th>\n",
              "      <td>4</td>\n",
              "      <td>126.60</td>\n",
              "      <td>2240838</td>\n",
              "      <td>9395</td>\n",
              "      <td>3.5</td>\n",
              "      <td>Hotel</td>\n",
              "      <td>non-chain</td>\n",
              "      <td>2016-08-04</td>\n",
              "      <td>2016-10-02</td>\n",
              "      <td>2016-10-03</td>\n",
              "      <td>1.0</td>\n",
              "      <td>59.0</td>\n",
              "      <td>(47.8, 60.0]</td>\n",
              "      <td>budget</td>\n",
              "    </tr>\n",
              "    <tr>\n",
              "      <th>4</th>\n",
              "      <td>5</td>\n",
              "      <td>115.08</td>\n",
              "      <td>2240838</td>\n",
              "      <td>9395</td>\n",
              "      <td>3.5</td>\n",
              "      <td>Hotel</td>\n",
              "      <td>non-chain</td>\n",
              "      <td>2016-08-04</td>\n",
              "      <td>2016-10-02</td>\n",
              "      <td>2016-10-03</td>\n",
              "      <td>1.0</td>\n",
              "      <td>59.0</td>\n",
              "      <td>(47.8, 60.0]</td>\n",
              "      <td>budget</td>\n",
              "    </tr>\n",
              "  </tbody>\n",
              "</table>\n",
              "</div>"
            ],
            "text/plain": [
              "   #  ADR_USD  ...  Days_Booked_Early  Price_Tier\n",
              "0  1    71.06  ...       (47.8, 60.0]      budget\n",
              "1  2    76.56  ...       (47.8, 60.0]      budget\n",
              "2  3   153.88  ...       (47.8, 60.0]      budget\n",
              "3  4   126.60  ...       (47.8, 60.0]      budget\n",
              "4  5   115.08  ...       (47.8, 60.0]      budget\n",
              "\n",
              "[5 rows x 14 columns]"
            ]
          },
          "metadata": {
            "tags": []
          },
          "execution_count": 6
        }
      ]
    },
    {
      "cell_type": "code",
      "metadata": {
        "id": "lfaRgDe3A1AC"
      },
      "source": [
        "df = df.drop(columns=[\"#\"])"
      ],
      "execution_count": null,
      "outputs": []
    },
    {
      "cell_type": "code",
      "metadata": {
        "colab": {
          "base_uri": "https://localhost:8080/"
        },
        "id": "Ya3y74N1-h3v",
        "outputId": "72956010-7b39-4535-ab71-990226423028"
      },
      "source": [
        "len(df)"
      ],
      "execution_count": null,
      "outputs": [
        {
          "output_type": "execute_result",
          "data": {
            "text/plain": [
              "49064"
            ]
          },
          "metadata": {
            "tags": []
          },
          "execution_count": 8
        }
      ]
    },
    {
      "cell_type": "code",
      "metadata": {
        "colab": {
          "base_uri": "https://localhost:8080/"
        },
        "id": "HXB69QdN-lbU",
        "outputId": "7ce4d583-1160-4eba-cff9-5a9a44374627"
      },
      "source": [
        "df.info()"
      ],
      "execution_count": null,
      "outputs": [
        {
          "output_type": "stream",
          "text": [
            "<class 'pandas.core.frame.DataFrame'>\n",
            "RangeIndex: 49064 entries, 0 to 49063\n",
            "Data columns (total 13 columns):\n",
            " #   Column                         Non-Null Count  Dtype         \n",
            "---  ------                         --------------  -----         \n",
            " 0   ADR_USD                        49064 non-null  float64       \n",
            " 1   hotel_id                       49064 non-null  int64         \n",
            " 2   city_id                        49064 non-null  int64         \n",
            " 3   star_rating                    49064 non-null  float64       \n",
            " 4   accommodation_type_name        49064 non-null  object        \n",
            " 5   chain_hotel                    49064 non-null  object        \n",
            " 6   booking_date                   49064 non-null  datetime64[ns]\n",
            " 7   checkin_date                   49064 non-null  datetime64[ns]\n",
            " 8   checkout_date                  49064 non-null  datetime64[ns]\n",
            " 9   days_stay                      49064 non-null  float64       \n",
            " 10  days_between_booking_checking  49064 non-null  float64       \n",
            " 11  Days_Booked_Early              49064 non-null  category      \n",
            " 12  Price_Tier                     49064 non-null  category      \n",
            "dtypes: category(2), datetime64[ns](3), float64(4), int64(2), object(2)\n",
            "memory usage: 4.2+ MB\n"
          ],
          "name": "stdout"
        }
      ]
    },
    {
      "cell_type": "code",
      "metadata": {
        "colab": {
          "base_uri": "https://localhost:8080/"
        },
        "id": "xOTHdjO7_zvV",
        "outputId": "9cbdccb9-555a-4d83-8993-0383c86826c4"
      },
      "source": [
        "df.isna().sum()"
      ],
      "execution_count": null,
      "outputs": [
        {
          "output_type": "execute_result",
          "data": {
            "text/plain": [
              "ADR_USD                          0\n",
              "hotel_id                         0\n",
              "city_id                          0\n",
              "star_rating                      0\n",
              "accommodation_type_name          0\n",
              "chain_hotel                      0\n",
              "booking_date                     0\n",
              "checkin_date                     0\n",
              "checkout_date                    0\n",
              "days_stay                        0\n",
              "days_between_booking_checking    0\n",
              "Days_Booked_Early                0\n",
              "Price_Tier                       0\n",
              "dtype: int64"
            ]
          },
          "metadata": {
            "tags": []
          },
          "execution_count": 10
        }
      ]
    },
    {
      "cell_type": "code",
      "metadata": {
        "colab": {
          "base_uri": "https://localhost:8080/"
        },
        "id": "Pt7L-sV6Ak59",
        "outputId": "a7059f70-31ab-4663-9a19-d68ae6c7d7d1"
      },
      "source": [
        "for col in df.columns:\n",
        "    print(col, '\\n', df[col].value_counts(normalize=True).head(), '\\n\\n' )"
      ],
      "execution_count": null,
      "outputs": [
        {
          "output_type": "stream",
          "text": [
            "ADR_USD \n",
            " 36.0    0.001203\n",
            "38.0    0.001039\n",
            "52.0    0.000999\n",
            "50.0    0.000897\n",
            "40.0    0.000815\n",
            "Name: ADR_USD, dtype: float64 \n",
            "\n",
            "\n",
            "hotel_id \n",
            " 197996     0.054602\n",
            "21272      0.026781\n",
            "219762     0.026170\n",
            "16146      0.023255\n",
            "1545890    0.021156\n",
            "Name: hotel_id, dtype: float64 \n",
            "\n",
            "\n",
            "city_id \n",
            " 9395     0.455854\n",
            "16808    0.206913\n",
            "5085     0.138533\n",
            "17193    0.100522\n",
            "8584     0.098178\n",
            "Name: city_id, dtype: float64 \n",
            "\n",
            "\n",
            "star_rating \n",
            " 3.0    0.301626\n",
            "4.0    0.295288\n",
            "3.5    0.128302\n",
            "5.0    0.083157\n",
            "1.0    0.069236\n",
            "Name: star_rating, dtype: float64 \n",
            "\n",
            "\n",
            "accommodation_type_name \n",
            " Hotel                            0.722342\n",
            "Resort                           0.071845\n",
            "Serviced Apartment               0.057007\n",
            "Hostel                           0.056538\n",
            "Guest House / Bed & Breakfast    0.056212\n",
            "Name: accommodation_type_name, dtype: float64 \n",
            "\n",
            "\n",
            "chain_hotel \n",
            " non-chain    0.73021\n",
            "chain        0.26979\n",
            "Name: chain_hotel, dtype: float64 \n",
            "\n",
            "\n",
            "booking_date \n",
            " 2016-10-06    0.012698\n",
            "2016-10-05    0.012616\n",
            "2016-11-07    0.012555\n",
            "2016-11-02    0.012351\n",
            "2016-11-15    0.012188\n",
            "Name: booking_date, dtype: float64 \n",
            "\n",
            "\n",
            "checkin_date \n",
            " 2016-12-31    0.019199\n",
            "2016-12-10    0.017080\n",
            "2016-12-30    0.016163\n",
            "2016-10-22    0.015429\n",
            "2016-10-08    0.015347\n",
            "Name: checkin_date, dtype: float64 \n",
            "\n",
            "\n",
            "checkout_date \n",
            " 2017-01-01    0.017977\n",
            "2016-11-20    0.017141\n",
            "2016-11-27    0.016346\n",
            "2016-11-13    0.015918\n",
            "2016-10-09    0.015714\n",
            "Name: checkout_date, dtype: float64 \n",
            "\n",
            "\n",
            "days_stay \n",
            " 1.0    0.512412\n",
            "2.0    0.298895\n",
            "3.0    0.188692\n",
            "Name: days_stay, dtype: float64 \n",
            "\n",
            "\n",
            "days_between_booking_checking \n",
            " 1.0    0.115482\n",
            "0.0    0.114198\n",
            "2.0    0.060370\n",
            "3.0    0.049527\n",
            "4.0    0.041782\n",
            "Name: days_between_booking_checking, dtype: float64 \n",
            "\n",
            "\n",
            "Days_Booked_Early \n",
            " (-1.061, 11.2]    0.571804\n",
            "(11.2, 23.4]      0.183047\n",
            "(23.4, 35.6]      0.112262\n",
            "(35.6, 47.8]      0.076533\n",
            "(47.8, 60.0]      0.056355\n",
            "Name: Days_Booked_Early, dtype: float64 \n",
            "\n",
            "\n",
            "Price_Tier \n",
            " budget    0.989830\n",
            "low       0.008703\n",
            "medium    0.001121\n",
            "high      0.000285\n",
            "luxury    0.000061\n",
            "Name: Price_Tier, dtype: float64 \n",
            "\n",
            "\n"
          ],
          "name": "stdout"
        }
      ]
    },
    {
      "cell_type": "code",
      "metadata": {
        "colab": {
          "base_uri": "https://localhost:8080/"
        },
        "id": "d5nUYVLzAonG",
        "outputId": "5632c2cf-3e66-494b-f4ec-811e954a8e72"
      },
      "source": [
        "for col in df.columns:\n",
        "    print(col, '\\n', len(df[col].unique()))"
      ],
      "execution_count": null,
      "outputs": [
        {
          "output_type": "stream",
          "text": [
            "ADR_USD \n",
            " 20210\n",
            "hotel_id \n",
            " 880\n",
            "city_id \n",
            " 5\n",
            "star_rating \n",
            " 10\n",
            "accommodation_type_name \n",
            " 16\n",
            "chain_hotel \n",
            " 2\n",
            "booking_date \n",
            " 151\n",
            "checkin_date \n",
            " 92\n",
            "checkout_date \n",
            " 94\n",
            "days_stay \n",
            " 3\n",
            "days_between_booking_checking \n",
            " 62\n",
            "Days_Booked_Early \n",
            " 5\n",
            "Price_Tier \n",
            " 5\n"
          ],
          "name": "stdout"
        }
      ]
    },
    {
      "cell_type": "code",
      "metadata": {
        "colab": {
          "base_uri": "https://localhost:8080/",
          "height": 297
        },
        "id": "RFqNpBHI0kqJ",
        "outputId": "3633c654-828c-4f7b-a696-19203f371bf6"
      },
      "source": [
        "df.describe()"
      ],
      "execution_count": null,
      "outputs": [
        {
          "output_type": "execute_result",
          "data": {
            "text/html": [
              "<div>\n",
              "<style scoped>\n",
              "    .dataframe tbody tr th:only-of-type {\n",
              "        vertical-align: middle;\n",
              "    }\n",
              "\n",
              "    .dataframe tbody tr th {\n",
              "        vertical-align: top;\n",
              "    }\n",
              "\n",
              "    .dataframe thead th {\n",
              "        text-align: right;\n",
              "    }\n",
              "</style>\n",
              "<table border=\"1\" class=\"dataframe\">\n",
              "  <thead>\n",
              "    <tr style=\"text-align: right;\">\n",
              "      <th></th>\n",
              "      <th>ADR_USD</th>\n",
              "      <th>hotel_id</th>\n",
              "      <th>city_id</th>\n",
              "      <th>star_rating</th>\n",
              "      <th>days_stay</th>\n",
              "      <th>days_between_booking_checking</th>\n",
              "    </tr>\n",
              "  </thead>\n",
              "  <tbody>\n",
              "    <tr>\n",
              "      <th>count</th>\n",
              "      <td>49064.000000</td>\n",
              "      <td>4.906400e+04</td>\n",
              "      <td>49064.000000</td>\n",
              "      <td>49064.000000</td>\n",
              "      <td>49064.000000</td>\n",
              "      <td>49064.000000</td>\n",
              "    </tr>\n",
              "    <tr>\n",
              "      <th>mean</th>\n",
              "      <td>148.089095</td>\n",
              "      <td>7.921256e+05</td>\n",
              "      <td>11036.016937</td>\n",
              "      <td>3.328887</td>\n",
              "      <td>1.676280</td>\n",
              "      <td>14.529472</td>\n",
              "    </tr>\n",
              "    <tr>\n",
              "      <th>std</th>\n",
              "      <td>135.338544</td>\n",
              "      <td>7.559906e+05</td>\n",
              "      <td>4174.737590</td>\n",
              "      <td>0.994740</td>\n",
              "      <td>0.772219</td>\n",
              "      <td>15.680648</td>\n",
              "    </tr>\n",
              "    <tr>\n",
              "      <th>min</th>\n",
              "      <td>4.260000</td>\n",
              "      <td>7.700000e+02</td>\n",
              "      <td>5085.000000</td>\n",
              "      <td>0.000000</td>\n",
              "      <td>1.000000</td>\n",
              "      <td>-1.000000</td>\n",
              "    </tr>\n",
              "    <tr>\n",
              "      <th>25%</th>\n",
              "      <td>62.555000</td>\n",
              "      <td>1.979960e+05</td>\n",
              "      <td>9395.000000</td>\n",
              "      <td>3.000000</td>\n",
              "      <td>1.000000</td>\n",
              "      <td>2.000000</td>\n",
              "    </tr>\n",
              "    <tr>\n",
              "      <th>50%</th>\n",
              "      <td>113.660000</td>\n",
              "      <td>5.260860e+05</td>\n",
              "      <td>9395.000000</td>\n",
              "      <td>3.500000</td>\n",
              "      <td>1.000000</td>\n",
              "      <td>8.000000</td>\n",
              "    </tr>\n",
              "    <tr>\n",
              "      <th>75%</th>\n",
              "      <td>192.220000</td>\n",
              "      <td>1.249476e+06</td>\n",
              "      <td>16808.000000</td>\n",
              "      <td>4.000000</td>\n",
              "      <td>2.000000</td>\n",
              "      <td>23.000000</td>\n",
              "    </tr>\n",
              "    <tr>\n",
              "      <th>max</th>\n",
              "      <td>3156.860000</td>\n",
              "      <td>5.211366e+06</td>\n",
              "      <td>17193.000000</td>\n",
              "      <td>5.000000</td>\n",
              "      <td>3.000000</td>\n",
              "      <td>60.000000</td>\n",
              "    </tr>\n",
              "  </tbody>\n",
              "</table>\n",
              "</div>"
            ],
            "text/plain": [
              "            ADR_USD      hotel_id  ...     days_stay  days_between_booking_checking\n",
              "count  49064.000000  4.906400e+04  ...  49064.000000                   49064.000000\n",
              "mean     148.089095  7.921256e+05  ...      1.676280                      14.529472\n",
              "std      135.338544  7.559906e+05  ...      0.772219                      15.680648\n",
              "min        4.260000  7.700000e+02  ...      1.000000                      -1.000000\n",
              "25%       62.555000  1.979960e+05  ...      1.000000                       2.000000\n",
              "50%      113.660000  5.260860e+05  ...      1.000000                       8.000000\n",
              "75%      192.220000  1.249476e+06  ...      2.000000                      23.000000\n",
              "max     3156.860000  5.211366e+06  ...      3.000000                      60.000000\n",
              "\n",
              "[8 rows x 6 columns]"
            ]
          },
          "metadata": {
            "tags": []
          },
          "execution_count": 13
        }
      ]
    },
    {
      "cell_type": "code",
      "metadata": {
        "id": "dwyxnIoOvgqu"
      },
      "source": [
        "# Writing a helper function to calculate the Welch's t-value\n",
        "\n",
        "def welch_t(a, b):\n",
        "\n",
        "    numerator = np.mean(a) - np.mean(b)\n",
        "    \n",
        "    denominator = np.sqrt((np.var(a, ddof=1)/len(a)) + (np.var(b, ddof=1)/len(b)))\n",
        "    \n",
        "    return np.abs(numerator/denominator)\n",
        "\n",
        "# Writing a helper function to calculate the Welch's df\n",
        "\n",
        "def welch_df(a, b):\n",
        "    \n",
        "    s1 = np.var(a, ddof=1) \n",
        "    s2 = np.var(b, ddof=1)\n",
        "    n1 = len(a)\n",
        "    n2 = len(b)\n",
        "    \n",
        "    numerator = (s1/n1 + s2/n2)**2\n",
        "    denominator = (s1/ n1)**2/(n1 - 1) + (s2/ n2)**2/(n2 - 1)\n",
        "    \n",
        "    return numerator/denominator\n",
        "\n",
        "# Writing a function to calculate the Welch's p-value\n",
        "\n",
        "def p_value(a, b, two_sided=False):\n",
        "\n",
        "    t = welch_t(a, b)\n",
        "    df = welch_df(a, b)\n",
        "    \n",
        "    p = 1-st.t.cdf(np.abs(t), df)\n",
        "    \n",
        "    if two_sided:\n",
        "        return 2*p\n",
        "    else:\n",
        "        return p"
      ],
      "execution_count": null,
      "outputs": []
    },
    {
      "cell_type": "code",
      "metadata": {
        "id": "y9SdZfNMtfqa"
      },
      "source": [
        "# creating two data sets based on chain vs non-chain\n",
        "\n",
        "chain = df[df['chain_hotel']=='chain']['ADR_USD']\n",
        "non_chain = df[df['chain_hotel']=='non-chain']['ADR_USD']"
      ],
      "execution_count": null,
      "outputs": []
    },
    {
      "cell_type": "code",
      "metadata": {
        "colab": {
          "base_uri": "https://localhost:8080/"
        },
        "id": "-SLysgD7tgSR",
        "outputId": "74f2aff7-d047-45ee-fab0-e89f19fa8f34"
      },
      "source": [
        "# Performing Welch's t-test between chain vs non-chain\n",
        "\n",
        "print(\"Median Values: \\ts1: {} \\ts2: {}\".format(round(np.median(chain), 2), round(np.median(non_chain), 2)))\n",
        "print(\"Mean Values: \\ts1: {} \\ts2: {}\".format(round(np.mean(chain), 2), round(np.mean(non_chain), 2)))\n",
        "print('Sample sizes: \\ts1: {} \\ts2: {}'.format(len(chain), len(non_chain)))\n",
        "print(\"Welch's t-test p-value:\", p_value(chain, non_chain, two_sided=True))"
      ],
      "execution_count": null,
      "outputs": [
        {
          "output_type": "stream",
          "text": [
            "Median Values: \ts1: 161.0 \ts2: 91.64\n",
            "Mean Values: \ts1: 200.18 \ts2: 128.84\n",
            "Sample sizes: \ts1: 13237 \ts2: 35827\n",
            "Welch's t-test p-value: 0.0\n"
          ],
          "name": "stdout"
        }
      ]
    },
    {
      "cell_type": "code",
      "metadata": {
        "colab": {
          "base_uri": "https://localhost:8080/"
        },
        "id": "fPgYyWyhyxKQ",
        "outputId": "5245891c-e28b-466c-96b6-b3b6a1145cd4"
      },
      "source": [
        "# Tukey testing between days booked early\n",
        "\n",
        "print(pairwise_tukeyhsd(df['ADR_USD'], df['Days_Booked_Early'], 0.05))"
      ],
      "execution_count": null,
      "outputs": [
        {
          "output_type": "stream",
          "text": [
            "       Multiple Comparison of Means - Tukey HSD, FWER=0.05        \n",
            "==================================================================\n",
            "    group1        group2    meandiff p-adj   lower   upper  reject\n",
            "------------------------------------------------------------------\n",
            "(-1.061, 11.2] (11.2, 23.4]  23.4011  0.001 18.9515 27.8506   True\n",
            "(-1.061, 11.2] (23.4, 35.6]  28.0666  0.001 22.6578 33.4754   True\n",
            "(-1.061, 11.2] (35.6, 47.8]  31.6749  0.001 25.2975 38.0524   True\n",
            "(-1.061, 11.2] (47.8, 60.0]  42.4082  0.001 35.0928 49.7236   True\n",
            "  (11.2, 23.4] (23.4, 35.6]   4.6655 0.2533 -1.6155 10.9466  False\n",
            "  (11.2, 23.4] (35.6, 47.8]   8.2739 0.0135  1.1417 15.4061   True\n",
            "  (11.2, 23.4] (47.8, 60.0]  19.0071  0.001 11.0252 26.9891   True\n",
            "  (23.4, 35.6] (35.6, 47.8]   3.6083 0.6861 -4.1586 11.3753  False\n",
            "  (23.4, 35.6] (47.8, 60.0]  14.3416  0.001  5.7877 22.8954   True\n",
            "  (35.6, 47.8] (47.8, 60.0]  10.7332 0.0127  1.5363 19.9302   True\n",
            "------------------------------------------------------------------\n"
          ],
          "name": "stdout"
        }
      ]
    },
    {
      "cell_type": "code",
      "metadata": {
        "colab": {
          "base_uri": "https://localhost:8080/"
        },
        "id": "_-Ioex19mzW3",
        "outputId": "c649315d-a8c2-444c-c74c-c9f44e05b4e6"
      },
      "source": [
        "# Tukey testing between days_stay\n",
        "\n",
        "print(pairwise_tukeyhsd(df['ADR_USD'], df['days_stay'], 0.05))"
      ],
      "execution_count": null,
      "outputs": [
        {
          "output_type": "stream",
          "text": [
            "Multiple Comparison of Means - Tukey HSD, FWER=0.05\n",
            "===================================================\n",
            "group1 group2 meandiff p-adj  lower   upper  reject\n",
            "---------------------------------------------------\n",
            "   1.0    2.0  21.4065 0.001 18.1211  24.692   True\n",
            "   1.0    3.0  22.1422 0.001 18.2983 25.9861   True\n",
            "   2.0    3.0   0.7357   0.9 -3.4615  4.9328  False\n",
            "---------------------------------------------------\n"
          ],
          "name": "stdout"
        }
      ]
    },
    {
      "cell_type": "code",
      "metadata": {
        "colab": {
          "base_uri": "https://localhost:8080/"
        },
        "id": "eiO-TwLhmRQQ",
        "outputId": "ec1dbbe0-bbb4-4b29-bc05-e3146b2f7a25"
      },
      "source": [
        "# Tukey testing between price tiers\n",
        "\n",
        "print(pairwise_tukeyhsd(df['ADR_USD'], df['Price_Tier'], 0.05))"
      ],
      "execution_count": null,
      "outputs": [
        {
          "output_type": "stream",
          "text": [
            "    Multiple Comparison of Means - Tukey HSD, FWER=0.05    \n",
            "===========================================================\n",
            "group1 group2  meandiff  p-adj   lower      upper    reject\n",
            "-----------------------------------------------------------\n",
            "budget   high  2131.0939 0.001  2056.0673  2206.1206   True\n",
            "budget    low    684.908 0.001   671.2652   698.5508   True\n",
            "budget luxury  2638.9558 0.001  2476.8981  2801.0135   True\n",
            "budget medium  1333.4353 0.001  1295.5665  1371.3041   True\n",
            "  high    low -1446.1859 0.001 -1522.4216 -1369.9502   True\n",
            "  high luxury   507.8619 0.001   329.2885   686.4353   True\n",
            "  high medium  -797.6586 0.001  -881.6812   -713.636   True\n",
            "   low luxury  1954.0478 0.001  1791.4268  2116.6688   True\n",
            "   low medium   648.5273 0.001   608.3163   688.7383   True\n",
            "luxury medium -1305.5205 0.001 -1471.9341 -1139.1068   True\n",
            "-----------------------------------------------------------\n"
          ],
          "name": "stdout"
        }
      ]
    },
    {
      "cell_type": "code",
      "metadata": {
        "colab": {
          "base_uri": "https://localhost:8080/"
        },
        "id": "68IB6NmklguA",
        "outputId": "05738d65-5476-4973-efa5-bdad0698a638"
      },
      "source": [
        "# Tukey testing between accomodation types\n",
        "\n",
        "print(pairwise_tukeyhsd(df['ADR_USD'], df['accommodation_type_name'], 0.05))"
      ],
      "execution_count": null,
      "outputs": [
        {
          "output_type": "stream",
          "text": [
            "                          Multiple Comparison of Means - Tukey HSD, FWER=0.05                          \n",
            "=======================================================================================================\n",
            "            group1                        group2             meandiff p-adj    lower     upper   reject\n",
            "-------------------------------------------------------------------------------------------------------\n",
            "                    Apartment                      Bungalow  -124.444  0.001 -172.0174  -76.8705   True\n",
            "                    Apartment                 Capsule Hotel -134.9972  0.001 -167.9937 -102.0007   True\n",
            "                    Apartment Guest House / Bed & Breakfast -110.5466  0.001 -140.8222   -80.271   True\n",
            "                    Apartment   Holiday Park / Caravan Park  -98.1175    0.9  -358.969  162.7339  False\n",
            "                    Apartment                          Home    -1.839    0.9 -125.3036  121.6256  False\n",
            "                    Apartment                        Hostel -107.5284  0.001  -137.797  -77.2598   True\n",
            "                    Apartment                         Hotel  -38.1794  0.001  -67.3205   -9.0383   True\n",
            "                    Apartment                    Love Hotel   37.1336    0.9 -223.7179   297.985  False\n",
            "                    Apartment                         Motel -168.2425  0.001 -259.4026  -77.0823   True\n",
            "                    Apartment                 Private Villa  142.6536  0.001   32.9107  252.3965   True\n",
            "                    Apartment                        Resort   -5.3284    0.9  -35.3402   24.6833  False\n",
            "                    Apartment                  Resort Villa   63.1828  0.001   26.4225   99.9431   True\n",
            "                    Apartment                        Ryokan   118.465  0.001   65.5425  171.3876   True\n",
            "                    Apartment            Serviced Apartment -106.2389  0.001 -136.4977  -75.9802   True\n",
            "                    Apartment                         Villa -142.0197    0.9 -591.9568  307.9173  False\n",
            "                     Bungalow                 Capsule Hotel  -10.5532    0.9  -51.3573   30.2509  False\n",
            "                     Bungalow Guest House / Bed & Breakfast   13.8973    0.9  -24.7396   52.5343  False\n",
            "                     Bungalow   Holiday Park / Caravan Park   26.3264    0.9 -235.6272    288.28  False\n",
            "                     Bungalow                          Home  122.6049 0.0658   -3.1715  248.3813  False\n",
            "                     Bungalow                        Hostel   16.9156    0.9  -21.7159   55.5471  False\n",
            "                     Bungalow                         Hotel   86.2646  0.001     48.51  124.0191   True\n",
            "                     Bungalow                    Love Hotel  161.5775 0.7261  -100.376  423.5311  False\n",
            "                     Bungalow                         Motel  -43.7985    0.9 -138.0661   50.4691  False\n",
            "                     Bungalow                 Private Villa  267.0975  0.001  154.7601   379.435   True\n",
            "                     Bungalow                        Resort  119.1155  0.001   80.6849  157.5461   True\n",
            "                     Bungalow                  Resort Villa  187.6267  0.001  143.7231  231.5303   True\n",
            "                     Bungalow                        Ryokan   242.909  0.001  184.7971  301.0209   True\n",
            "                     Bungalow            Serviced Apartment    18.205    0.9  -20.4187   56.8288  False\n",
            "                     Bungalow                         Villa  -17.5758    0.9 -468.1528  433.0012  False\n",
            "                Capsule Hotel Guest House / Bed & Breakfast   24.4506  0.001    6.6082    42.293   True\n",
            "                Capsule Hotel   Holiday Park / Caravan Park   36.8797    0.9 -222.8225  296.5818  False\n",
            "                Capsule Hotel                          Home  133.1581 0.0154   12.1406  254.1757   True\n",
            "                Capsule Hotel                        Hostel   27.4688  0.001    9.6382   45.2994   True\n",
            "                Capsule Hotel                         Hotel   96.8178  0.001   80.9766   112.659   True\n",
            "                Capsule Hotel                    Love Hotel  172.1308 0.6241  -87.5714  431.8329  False\n",
            "                Capsule Hotel                         Motel  -33.2453    0.9 -121.0628   54.5722  False\n",
            "                Capsule Hotel                 Private Villa  277.6508  0.001  170.6683  384.6332   True\n",
            "                Capsule Hotel                        Resort  129.6687  0.001  112.2777  147.0597   True\n",
            "                Capsule Hotel                  Resort Villa    198.18  0.001   170.738   225.622   True\n",
            "                Capsule Hotel                        Ryokan  253.4622  0.001   206.531  300.3934   True\n",
            "                Capsule Hotel            Serviced Apartment   28.7583  0.001   10.9444   46.5721   True\n",
            "                Capsule Hotel                         Villa   -7.0226    0.9 -456.2943  442.2492  False\n",
            "Guest House / Bed & Breakfast   Holiday Park / Caravan Park   12.4291    0.9 -246.9414  271.7996  False\n",
            "Guest House / Bed & Breakfast                          Home  108.7076  0.131  -11.5966  229.0117  False\n",
            "Guest House / Bed & Breakfast                        Hostel    3.0182    0.9   -9.0554   15.0918  False\n",
            "Guest House / Bed & Breakfast                         Hotel   72.3672  0.001   63.4912   81.2433   True\n",
            "Guest House / Bed & Breakfast                    Love Hotel  147.6802 0.8314 -111.6903  407.0507  False\n",
            "Guest House / Bed & Breakfast                         Motel  -57.6959 0.6205 -144.5276   29.1359  False\n",
            "Guest House / Bed & Breakfast                 Private Villa  253.2002  0.001  147.0254   359.375   True\n",
            "Guest House / Bed & Breakfast                        Resort  105.2182  0.001   93.8038  116.6325   True\n",
            "Guest House / Bed & Breakfast                  Resort Villa  173.7294  0.001  149.6274  197.8314   True\n",
            "Guest House / Bed & Breakfast                        Ryokan  229.0116  0.001  183.9519  274.0714   True\n",
            "Guest House / Bed & Breakfast            Serviced Apartment    4.3077    0.9   -7.7411   16.3565  False\n",
            "Guest House / Bed & Breakfast                         Villa  -31.4731    0.9 -480.5533   417.607  False\n",
            "  Holiday Park / Caravan Park                          Home   96.2785    0.9 -189.3786  381.9355  False\n",
            "  Holiday Park / Caravan Park                        Hostel   -9.4109    0.9 -268.7805  249.9588  False\n",
            "  Holiday Park / Caravan Park                         Hotel   59.9382    0.9 -199.3024  319.1787  False\n",
            "  Holiday Park / Caravan Park                    Love Hotel  135.2511    0.9 -231.3548  501.8571  False\n",
            "  Holiday Park / Caravan Park                         Motel  -70.1249    0.9 -343.3769   203.127  False\n",
            "  Holiday Park / Caravan Park                 Private Villa  240.7711 0.1924  -39.2288   520.771  False\n",
            "  Holiday Park / Caravan Park                        Resort   92.7891    0.9 -166.5507  352.1289  False\n",
            "  Holiday Park / Caravan Park                  Resort Villa  161.3003 0.7193  -98.9068  421.5075  False\n",
            "  Holiday Park / Caravan Park                        Ryokan  216.5826 0.2565  -46.3951  479.5602  False\n",
            "  Holiday Park / Caravan Park            Serviced Apartment   -8.1214    0.9 -267.4899  251.2471  False\n",
            "  Holiday Park / Caravan Park                         Villa  -43.9022    0.9 -562.3613  474.5569  False\n",
            "                         Home                        Hostel -105.6894 0.1648 -225.9917    14.613  False\n",
            "                         Home                         Hotel  -36.3403    0.9  -156.364   83.6833  False\n",
            "                         Home                    Love Hotel   38.9726    0.9 -246.6844  324.6297  False\n",
            "                         Home                         Motel -166.4034 0.0112 -314.2772  -18.5297   True\n",
            "                         Home                 Private Villa  144.4926 0.1316  -15.5073  304.4926  False\n",
            "                         Home                        Resort   -3.4894    0.9 -123.7274  116.7486  False\n",
            "                         Home                  Resort Villa   65.0218    0.9  -57.0757  187.1193  False\n",
            "                         Home                        Ryokan  120.3041 0.0923   -7.5915  248.1996  False\n",
            "                         Home            Serviced Apartment -104.3999 0.1799 -224.6998      15.9  False\n",
            "                         Home                         Villa -140.1807    0.9 -604.9386  324.5771  False\n",
            "                       Hostel                         Hotel    69.349  0.001   60.4967   78.2013   True\n",
            "                       Hostel                    Love Hotel   144.662 0.8572 -114.7077  404.0317  False\n",
            "                       Hostel                         Motel  -60.7141 0.5433 -147.5434   26.1153  False\n",
            "                       Hostel                 Private Villa   250.182  0.001  144.0091  356.3548   True\n",
            "                       Hostel                        Resort  102.1999  0.001   90.8041  113.5958   True\n",
            "                       Hostel                  Resort Villa  170.7112  0.001   146.618  194.8044   True\n",
            "                       Hostel                        Ryokan  225.9934  0.001  180.9384  271.0484   True\n",
            "                       Hostel            Serviced Apartment    1.2895    0.9  -10.7418   13.3208  False\n",
            "                       Hostel                         Villa  -34.4914    0.9  -483.571  414.5883  False\n",
            "                        Hotel                    Love Hotel    75.313    0.9 -183.9276  334.5535  False\n",
            "                        Hotel                         Motel -130.0631  0.001 -216.5059  -43.6203   True\n",
            "                        Hotel                 Private Villa   180.833  0.001   74.9761  286.6898   True\n",
            "                        Hotel                        Resort   32.8509  0.001   24.9213   40.7806   True\n",
            "                        Hotel                  Resort Villa  101.3622  0.001   78.7017  124.0226   True\n",
            "                        Hotel                        Ryokan  156.6444  0.001   112.339  200.9498   True\n",
            "                        Hotel            Serviced Apartment  -68.0596  0.001   -76.878  -59.2411   True\n",
            "                        Hotel                         Villa -103.8404    0.9 -552.8455  345.1647  False\n",
            "                   Love Hotel                         Motel  -205.376 0.4209  -478.628   67.8759  False\n",
            "                   Love Hotel                 Private Villa    105.52    0.9 -174.4799  385.5199  False\n",
            "                   Love Hotel                        Resort   -42.462    0.9 -301.8019  216.8778  False\n",
            "                   Love Hotel                  Resort Villa   26.0492    0.9  -234.158  286.2564  False\n",
            "                   Love Hotel                        Ryokan   81.3315    0.9 -181.6462  344.3091  False\n",
            "                   Love Hotel            Serviced Apartment -143.3725 0.8682  -402.741   115.996  False\n",
            "                   Love Hotel                         Villa -179.1533    0.9 -697.6124  339.3058  False\n",
            "                        Motel                 Private Villa   310.896  0.001  174.2701   447.522   True\n",
            "                        Motel                        Resort   162.914  0.001   76.1739  249.6542   True\n",
            "                        Motel                  Resort Villa  231.4253  0.001  142.1254  320.7251   True\n",
            "                        Motel                        Ryokan  286.7075  0.001  189.6305  383.7845   True\n",
            "                        Motel            Serviced Apartment   62.0035 0.5103  -24.8224  148.8295  False\n",
            "                        Motel                         Villa   26.2227    0.9 -431.0152  483.4607  False\n",
            "                Private Villa                        Resort  -147.982  0.001 -254.0819  -41.8821   True\n",
            "                Private Villa                  Resort Villa  -79.4708 0.4633 -187.6734   28.7318  False\n",
            "                Private Villa                        Ryokan  -24.1885    0.9 -138.8937   90.5166  False\n",
            "                Private Villa            Serviced Apartment -248.8925  0.001 -355.0625 -142.7225   True\n",
            "                Private Villa                         Villa -284.6733 0.7255 -745.9757   176.629  False\n",
            "                       Resort                  Resort Villa   68.5112  0.001   44.7415    92.281   True\n",
            "                       Resort                        Ryokan  123.7935  0.001   78.9106  168.6763   True\n",
            "                       Resort            Serviced Apartment -100.9105  0.001 -112.2801  -89.5408   True\n",
            "                       Resort                         Villa -136.6913    0.9 -585.7537  312.3711  False\n",
            "                 Resort Villa                        Ryokan   55.2822  0.013    5.6326  104.9319   True\n",
            "                 Resort Villa            Serviced Apartment -169.4217  0.001 -193.5025 -145.3409   True\n",
            "                 Resort Villa                         Villa -205.2025    0.9 -654.7664  244.3613  False\n",
            "                       Ryokan            Serviced Apartment  -224.704  0.001 -269.7524 -179.6556   True\n",
            "                       Ryokan                         Villa -260.4848 0.8137 -711.6579  190.6883  False\n",
            "           Serviced Apartment                         Villa  -35.7808    0.9 -484.8598  413.2982  False\n",
            "-------------------------------------------------------------------------------------------------------\n"
          ],
          "name": "stdout"
        }
      ]
    },
    {
      "cell_type": "code",
      "metadata": {
        "colab": {
          "base_uri": "https://localhost:8080/"
        },
        "id": "Ikr_H7mllq_t",
        "outputId": "a86826ba-465e-4c45-87da-b93b2806ba32"
      },
      "source": [
        "# Tukey testing between cities\n",
        "\n",
        "print(pairwise_tukeyhsd(df['ADR_USD'], df['city_id'], 0.05))"
      ],
      "execution_count": null,
      "outputs": [
        {
          "output_type": "stream",
          "text": [
            "   Multiple Comparison of Means - Tukey HSD, FWER=0.05   \n",
            "=========================================================\n",
            "group1 group2  meandiff p-adj    lower     upper   reject\n",
            "---------------------------------------------------------\n",
            "  5085   8584  -82.7709  0.001  -89.1344  -76.4075   True\n",
            "  5085   9395  -124.331  0.001 -129.0106 -119.6513   True\n",
            "  5085  16808   -5.9912 0.0173  -11.2865    -0.696   True\n",
            "  5085  17193 -106.5209  0.001 -112.8408  -100.201   True\n",
            "  8584   9395    -41.56  0.001  -46.9268  -36.1933   True\n",
            "  8584  16808   76.7797  0.001   70.8684   82.6909   True\n",
            "  8584  17193    -23.75  0.001  -30.5943  -16.9057   True\n",
            "  9395  16808  118.3397  0.001  114.2964  122.3831   True\n",
            "  9395  17193   17.8101  0.001    12.495   23.1251   True\n",
            " 16808  17193 -100.5297  0.001  -106.394  -94.6653   True\n",
            "---------------------------------------------------------\n"
          ],
          "name": "stdout"
        }
      ]
    },
    {
      "cell_type": "code",
      "metadata": {
        "colab": {
          "base_uri": "https://localhost:8080/"
        },
        "id": "KVwK2tWXj-hq",
        "outputId": "b41d3ac9-e901-48ca-b033-4d8c8fc2c5a3"
      },
      "source": [
        "# Tukey testing between star ratings\n",
        "\n",
        "print(pairwise_tukeyhsd(df['ADR_USD'], df['star_rating'], 0.05))"
      ],
      "execution_count": null,
      "outputs": [
        {
          "output_type": "stream",
          "text": [
            " Multiple Comparison of Means - Tukey HSD, FWER=0.05  \n",
            "======================================================\n",
            "group1 group2 meandiff p-adj   lower    upper   reject\n",
            "------------------------------------------------------\n",
            "   0.0    1.0  41.0679  0.001  10.9657  71.1702   True\n",
            "   0.0    1.5  18.5417 0.7665 -15.8715  52.9549  False\n",
            "   0.0    2.0   4.6253    0.9 -25.8015  35.0521  False\n",
            "   0.0    2.5  17.8514 0.6816 -12.7979  48.5007  False\n",
            "   0.0    3.0  83.2917  0.001  53.7536 112.8298   True\n",
            "   0.0    3.5  43.8796  0.001  14.1132  73.6461   True\n",
            "   0.0    4.0 142.2683  0.001 112.7265   171.81   True\n",
            "   0.0    4.5 117.0062  0.001  85.4256 148.5869   True\n",
            "   0.0    5.0 231.6637  0.001 201.6831 261.6443   True\n",
            "   1.0    1.5 -22.5262 0.0074 -41.6433  -3.4092   True\n",
            "   1.0    2.0 -36.4427  0.001  -46.786 -26.0993   True\n",
            "   1.0    2.5 -23.2165  0.001  -34.197 -12.2359   True\n",
            "   1.0    3.0  42.2238  0.001  34.8962  49.5514   True\n",
            "   1.0    3.5   2.8117    0.9   -5.388  11.0114  False\n",
            "   1.0    4.0 101.2003  0.001  93.8581 108.5426   True\n",
            "   1.0    4.5  75.9383  0.001  62.5768  89.2998   True\n",
            "   1.0    5.0 190.5958  0.001 181.6499 199.5417   True\n",
            "   1.5    2.0 -13.9164   0.43 -33.5405   5.7077  False\n",
            "   1.5    2.5  -0.6903    0.9 -20.6576  19.2771  False\n",
            "   1.5    3.0    64.75  0.001  46.5342  82.9658   True\n",
            "   1.5    3.5   25.338  0.001   6.7542  43.9218   True\n",
            "   1.5    4.0 123.7266  0.001 105.5049 141.9483   True\n",
            "   1.5    4.5  98.4646  0.001  77.0952  119.834   True\n",
            "   1.5    5.0  213.122  0.001 194.1971 232.0469   True\n",
            "   2.0    2.5  13.2262  0.015   1.3848  25.0675   True\n",
            "   2.0    3.0  78.6664  0.001  70.1026  87.2302   True\n",
            "   2.0    3.5  39.2544  0.001  29.9334  48.5753   True\n",
            "   2.0    4.0  137.643  0.001 129.0666 146.2193   True\n",
            "   2.0    4.5  112.381  0.001  98.3035 126.4584   True\n",
            "   2.0    5.0 227.0384  0.001 217.0548 237.0221   True\n",
            "   2.5    3.0  65.4403  0.001  56.1168  74.7637   True\n",
            "   2.5    3.5  26.0282  0.001  16.0048  36.0516   True\n",
            "   2.5    4.0 124.4168  0.001 115.0818 133.7518   True\n",
            "   2.5    4.5  99.1548  0.001  84.6027 113.7069   True\n",
            "   2.5    5.0 213.8123  0.001 203.1698 224.4547   True\n",
            "   3.0    3.5  -39.412  0.001 -45.2077 -33.6164   True\n",
            "   3.0    4.0  58.9766  0.001  54.4751   63.478   True\n",
            "   3.0    4.5  33.7146  0.001  21.6778  45.7513   True\n",
            "   3.0    5.0  148.372  0.001 141.5615 155.1825   True\n",
            "   3.5    4.0  98.3886  0.001  92.5744 104.2028   True\n",
            "   3.5    4.5  73.1266  0.001  60.5399  85.7133   True\n",
            "   3.5    5.0  187.784  0.001 180.0429 195.5252   True\n",
            "   4.0    4.5  -25.262  0.001 -37.3077 -13.2163   True\n",
            "   4.0    5.0  89.3954  0.001  82.5691  96.2217   True\n",
            "   4.5    5.0 114.6574  0.001 101.5724 127.7425   True\n",
            "------------------------------------------------------\n"
          ],
          "name": "stdout"
        }
      ]
    },
    {
      "cell_type": "code",
      "metadata": {
        "id": "o9J28iSxs2Fg"
      },
      "source": [
        "df.to_excel(\"/content/drive/MyDrive/Data Science/Agoda/agoda_output.xlsx\")  "
      ],
      "execution_count": null,
      "outputs": []
    }
  ]
}